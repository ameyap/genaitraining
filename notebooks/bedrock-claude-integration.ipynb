{
 "cells": [
  {
   "cell_type": "markdown",
   "metadata": {},
   "source": [
    "# AWS Bedrock & Claude Integration",
    "",
    "This notebook demonstrates how to integrate Anthropic's Claude and other foundation models through AWS Bedrock for production applications. You'll learn how to configure the SDK, optimize prompts, implement streaming, and monitor usage.",
    "",
    "## Learning Objectives",
    "",
    "- Set up AWS Bedrock SDK and authenticate properly
",
    "- Access Claude and other foundation models through Bedrock
",
    "- Optimize prompts for Claude's architecture
",
    "- Implement streaming responses for better user experience
",
    "- Monitor costs and performance"
   ]
  },
  {
   "cell_type": "markdown",
   "metadata": {},
   "source": [
    "## Setup",
    "",
    "First, let's install the necessary packages to work with AWS Bedrock."
   ]
  },
  {
   "cell_type": "code",
   "execution_count": null,
   "metadata": {},
   "outputs": [],
   "source": [
    "# Install required packages
",
    "!pip install boto3 langchain-aws botocore langchain-community"
   ]
  },
  {
   "cell_type": "code",
   "execution_count": null,
   "metadata": {},
   "outputs": [],
   "source": [
    "import boto3
",
    "import json
",
    "import time
",
    "import os
",
    "from langchain_aws import BedrockChat
",
    "from langchain.chains import LLMChain
",
    "from langchain.prompts import PromptTemplate
",
    "from IPython.display import display, Markdown"
   ]
  },
  {
   "cell_type": "markdown",
   "metadata": {},
   "source": [
    "## 1. AWS Authentication",
    "",
    "Before we can use AWS Bedrock, we need to set up authentication. We'll use boto3, which will look for credentials in environment variables, AWS configuration files, or instance metadata if running on EC2/ECS."
   ]
  },
  {
   "cell_type": "code",
   "execution_count": null,
   "metadata": {},
   "outputs": [],
   "source": [
    "# Configure AWS credentials
",
    "# os.environ['AWS_ACCESS_KEY_ID'] = 'your-access-key'
",
    "# os.environ['AWS_SECRET_ACCESS_KEY'] = 'your-secret-key'
",
    "# os.environ['AWS_DEFAULT_REGION'] = 'us-east-1'  # Replace with your region
",
    "
",
    "# Initialize a boto3 client for Bedrock
",
    "try:
",
    "    bedrock = boto3.client(service_name='bedrock-runtime')
",
    "    print(\"Successfully created Bedrock client\")
",
    "except Exception as e:
",
    "    print(f\"Error creating Bedrock client: {e}\")
",
    "    print(\"Note: If running locally, ensure AWS CLI is configured or credentials are provided\")"
   ]
  }
 ]
}