{
 "cells": [
  {
   "cell_type": "markdown",
   "metadata": {},
   "source": [
    "# Building a Research Agent with Multiple Tools",
    "",
    "This notebook demonstrates how to build an AI agent that can interact with multiple tools to solve research-based tasks. We'll create an agent that can analyze user queries, search for information, perform calculations, and synthesize findings into clear, structured responses.",
    "",
    "## Learning Objectives",
    "",
    "- Understand the architecture of an AI agent system",
    "- Implement multiple tools for information gathering and processing",
    "- Apply the ReAct pattern for effective reasoning and action",
    "- Design a system that explains its reasoning process",
    "- Create a flexible agent that can handle diverse research tasks"
   ]
  },
  {
   "cell_type": "markdown",
   "metadata": {},
   "source": [
    "## Setup",
    "",
    "First, let's install the necessary packages."
   ]
  },
  {
   "cell_type": "code",
   "execution_count": null,
   "metadata": {},
   "outputs": [],
   "source": [
    "# Install required packages",
    "!pip install langchain langchain_openai tavily-python"
   ]
  },
  {
   "cell_type": "code",
   "execution_count": null,
   "metadata": {},
   "outputs": [],
   "source": [
    "import os",
    "import json",
    "import numpy as np",
    "from langchain_openai import ChatOpenAI",
    "from langchain.agents import create_react_agent, AgentExecutor",
    "from langchain.agents.output_parsers import ReActSingleInputOutputParser",
    "from langchain.tools import Tool, StructuredTool",
    "from langchain.prompts import PromptTemplate",
    "from langchain.agents.format_scratchpad import format_log_to_str",
    "from langchain.tools import WikipediaQueryRun",
    "from langchain_community.utilities import WikipediaAPIWrapper",
    "from langchain_community.tools import DuckDuckGoSearchRun",
    "from IPython.display import display, Markdown"
   ]
  },
  {
   "cell_type": "markdown",
   "metadata": {},
   "source": [
    "## 1. Understanding Agent Architecture",
    "",
    "An agent is an autonomous system that can use reasoning to decide what actions to take to achieve a goal. Our research agent will follow this general architecture:",
    "",
    "1. **Input Processing**: Parse and understand the user's query",
    "2. **Reasoning**: Determine what information is needed and what tools to use",
    "3. **Tool Selection**: Choose the appropriate tool for gathering information",
    "4. **Tool Execution**: Execute the selected tool with appropriate parameters",
    "5. **Observation**: Process and understand the results from the tool",
    "6. **Synthesis**: Combine information and form a coherent response",
    "7. **Output**: Provide the final answer and explain the reasoning",
    "",
    "We'll implement this using the ReAct (Reasoning + Acting) pattern, which alternates between reasoning about the current state and taking actions based on that reasoning."
   ]
  },
  {
   "cell_type": "markdown",
   "metadata": {},
   "source": [
    "## 2. Setting up the Language Model",
    "",
    "First, we'll initialize the language model that will power our agent's reasoning."
   ]
  },
  {
   "cell_type": "code",
   "execution_count": null,
   "metadata": {},
   "outputs": [],
   "source": [
    "# Set your OpenAI API key here or use environment variables",
    "# os.environ['OPENAI_API_KEY'] = 'your-api-key'  # Uncomment and replace with your key",
    "",
    "# Initialize the LLM with GPT-3.5 or GPT-4",
    "llm = ChatOpenAI(",
    "    temperature=0,  # Use deterministic output for agents",
    "    model_name=\"gpt-3.5-turbo\"  # You can use gpt-4 for better reasoning if available",
    ")",
    "",
    "print(\"Language model initialized!\")"
   ]
  },
  {
   "cell_type": "markdown",
   "metadata": {},
   "source": [
    "## 3. Implementing the Tools",
    "",
    "Now, let's implement the tools our agent will use for research tasks."
   ]
  },
  {
   "cell_type": "code",
   "execution_count": null,
   "metadata": {},
   "outputs": [],
   "source": [
    "# Tool 1: Internet Search",
    "search_tool = DuckDuckGoSearchRun()",
    "",
    "# Tool 2: Wikipedia Query",
    "wikipedia = WikipediaQueryRun(api_wrapper=WikipediaAPIWrapper())",
    "",
    "# Tool 3: Calculator",
    "def calculator(expression: str) -> str:",
    "    \"\"\"Evaluate a mathematical expression.\"\"\"",
    "    try:",
    "        # Safely evaluate the expression using NumPy",
    "        # This is safer than using eval() directly",
    "        allowed_names = {",
    "            'sin': np.sin,",
    "            'cos': np.cos,",
    "            'tan': np.tan,",
    "            'exp': np.exp,",
    "            'sqrt': np.sqrt,",
    "            'pi': np.pi,",
    "            'e': np.e,",
    "            'log': np.log,",
    "            'log10': np.log10,",
    "            'abs': abs",
    "        }",
    "        ",
    "        # Replace common mathematical expressions",
    "        expression = expression.replace('^', '**')",
    "        ",
    "        # Evaluate the expression",
    "        result = eval(expression, {\"__builtins__\": {}}, allowed_names)",
    "        return f\"Result of {expression} = {result}\"",
    "    except Exception as e:",
    "        return f\"Error evaluating {expression}: {str(e)}\"",
    "",
    "# Tool 4: Fact Checker (simplified version)",
    "def fact_checker(statement: str) -> str:",
    "    \"\"\"Analyze a statement and identify potential issues or inconsistencies.\"\"\"",
    "    # In a real implementation, this would connect to factual databases or use specialized models",
    "    # For this example, we'll just prompt the LLM to analyze the statement",
    "    ",
    "    prompt = f\"\"\"\n    Please analyze the following statement for factual accuracy, logical consistency, and potential biases.\n    If there are any issues, explain them. If the statement appears valid, say so.\n    \n    Statement: \\\"{statement}\\\"\n    \"\"\"",
    "    ",
    "    analysis = llm.predict(prompt)",
    "    return analysis",
    "",
    "# Define the tools our agent can use",
    "tools = [",
    "    Tool(",
    "        name=\"search\",",
    "        func=search_tool.run,",
    "        description=\"Useful for searching the internet to find information on events, people, or recent topics. Input should be a search query.\"",
    "    ),",
    "    Tool(",
    "        name=\"wikipedia\",",
    "        func=wikipedia.run,",
    "        description=\"Useful for retrieving detailed information from Wikipedia about topics, concepts, historical events, persons, etc. Input should be a topic or query.\"",
    "    ),",
    "    Tool(",
    "        name=\"calculator\",",
    "        func=calculator,",
    "        description=\"Useful for performing mathematical calculations. Input should be a mathematical expression (e.g., '(2 * 10) / 4', 'sqrt(16)', 'sin(pi/2)').\"",
    "    ),",
    "    Tool(",
    "        name=\"fact_checker\",",
    "        func=fact_checker,",
    "        description=\"Useful for verifying the accuracy of a statement or claim. Input should be the statement to check.\"",
    "    )",
    "]",
    "",
    "print(\"Tools initialized!\")"
   ]
  },
  {
   "cell_type": "markdown",
   "metadata": {},
   "source": [
    "## 4. Creating the Agent",
    "",
    "Now, let's create our agent using the ReAct framework."
   ]
  },
  {
   "cell_type": "code",
   "execution_count": null,
   "metadata": {},
   "outputs": [],
   "source": [
    "# Define the ReAct prompt template",
    "react_template = \"\"\"You are an expert research assistant with access to the following tools: {tools}.",
    "",
    "TASK: Help the user by answering their question as thoroughly as possible, using the tools available to gather information and perform calculations when needed.",
    "",
    "Use the following format to structure your reasoning and actions:",
    "",
    "Question: The question you're answering",
    "Thought: Consider what information you need and which tools might help",
    "Action: tool_name (one of: {tool_names})",
    "Action Input: input for the tool",
    "Observation: result from the tool",
    "... (repeat Thought/Action/Observation as necessary)",
    "Thought: I now have enough information to answer the question",
    "Answer: Your final comprehensive answer to the question, using all the information you've gathered",
    "",
    "Begin by understanding the question thoroughly, breaking it down into parts if needed, and planning your research approach.",
    "Make sure your final answer is well-structured, comprehensive, and directly addresses the user's question.",
    "",
    "Question: {input}",
    "Thought: {agent_scratchpad}",
    "\"\""",
    "",
    "prompt = PromptTemplate.from_template(react_template)",
    "",
    "# Create the agent",
    "agent = create_react_agent(",
    "    llm=llm,",
    "    tools=tools,",
    "    prompt=prompt",
    ")",
    "",
    "# Create the agent executor",
    "agent_executor = AgentExecutor(",
    "    agent=agent,",
    "    tools=tools,",
    "    verbose=True,  # Set to True to see the agent's thought process",
    "    max_iterations=10  # Limit the number of tool uses to prevent infinite loops",
    ")",
    "",
    "print(\"Research agent created!\")"
   ]
  },
  {
   "cell_type": "markdown",
   "metadata": {},
   "source": [
    "## 5. Testing the Agent with Research Questions",
    "",
    "Now let's test our agent with some research questions that require gathering information and performing calculations."
   ]
  },
  {
   "cell_type": "code",
   "execution_count": null,
   "metadata": {},
   "outputs": [],
   "source": [
    "# Function to run queries through our agent and format the output nicely",
    "def run_research_query(query):",
    "    print(f\"\\n📝 Research Query: {query}\\n\")",
    "    print(\"🔍 Agent is researching...\\n\")",
    "    ",
    "    try:",
    "        result = agent_executor.invoke({\"input\": query})",
    "        ",
    "        print(\"\\n✅ Research Complete!\\n\")",
    "        print(\"📊 Final Answer:\\n\")",
    "        display(Markdown(result[\"output\"]))",
    "        ",
    "        print(\"\\n📋 Agent used these tools:\")",
    "        tool_counts = {}",
    "        for action in result.get(\"intermediate_steps\", []):",
    "            tool_name = action[0].tool",
    "            if tool_name in tool_counts:",
    "                tool_counts[tool_name] += 1",
    "            else:",
    "                tool_counts[tool_name] = 1",
    "                ",
    "        for tool, count in tool_counts.items():",
    "            print(f\"- {tool}: {count} time(s)\")",
    "            ",
    "        return result",
    "    except Exception as e:",
    "        print(f\"❌ Error: {e}\")",
    "        return None"
   ]
  },
  {
   "cell_type": "markdown",
   "metadata": {},
   "source": [
    "### Example 1: Factual Research Question",
    "",
    "Let's start with a question that requires gathering factual information."
   ]
  },
  {
   "cell_type": "code",
   "execution_count": null,
   "metadata": {},
   "outputs": [],
   "source": [
    "query1 = \"What are the main differences between traditional neural networks and transformer architecture? Provide key points.\"",
    "",
    "result1 = run_research_query(query1)"
   ]
  },
  {
   "cell_type": "markdown",
   "metadata": {},
   "source": [
    "### Example 2: Numerical Research Question",
    "",
    "Now let's try a question that requires both information gathering and calculations."
   ]
  },
  {
   "cell_type": "code",
   "execution_count": null,
   "metadata": {},
   "outputs": [],
   "source": [
    "query2 = \"What is the average GDP growth rate of the top 3 economies over the past 5 years, and how does it compare to the global average?\"",
    "",
    "result2 = run_research_query(query2)"
   ]
  },
  {
   "cell_type": "markdown",
   "metadata": {},
   "source": [
    "### Example 3: Fact Checking Question",
    "",
    "Finally, let's try a question that involves fact checking."
   ]
  },
  {
   "cell_type": "code",
   "execution_count": null,
   "metadata": {},
   "outputs": [],
   "source": [
    "query3 = \"Evaluate this statement: 'Artificial general intelligence has already been achieved with models like GPT-4 that can solve any problem a human can solve.'\"",
    "",
    "result3 = run_research_query(query3)"
   ]
  },
  {
   "cell_type": "markdown",
   "metadata": {},
   "source": [
    "## 6. Building Your Own Research Questions",
    "",
    "Now it's your turn to create and test your own research questions with our agent. Try to craft questions that require multiple tools and reasoning steps."
   ]
  },
  {
   "cell_type": "code",
   "execution_count": null,
   "metadata": {},
   "outputs": [],
   "source": [
    "# Replace with your own research question",
    "your_query = \"What are the environmental impacts of electric vehicles compared to conventional vehicles, considering their full lifecycle? Include some numerical comparisons.\"",
    "",
    "your_result = run_research_query(your_query)"
   ]
  },
  {
   "cell_type": "markdown",
   "metadata": {},
   "source": [
    "## 7. Extending the Agent",
    "",
    "Our current agent is relatively simple but effective. Here are ways you could extend it:",
    "",
    "1. **Add more specialized tools**:",
    "   - Data visualization tool",
    "   - Database query tool",
    "   - PDF document reader tool",
    "   - News API tool for recent events",
    "",
    "2. **Implement memory**:",
    "   - Add conversational memory to remember previous queries",
    "   - Store retrieved information for reuse",
    "",
    "3. **Improve reasoning capabilities**:",
    "   - Implement Tree of Thoughts for exploring multiple reasoning paths",
    "   - Add self-reflection to critique and improve answers",
    "",
    "4. **Enhance output formatting**:",
    "   - Structure responses with sections and headings",
    "   - Add citations for sources used",
    "   - Include confidence levels for information",
    "",
    "5. **Implement error handling and fallbacks**:",
    "   - Add retry mechanisms for failed tool calls",
    "   - Create fallback strategies when certain tools fail",
    "   - Implement timeouts for long-running operations",
    "",
    "These enhancements would create a more capable and robust research agent."
   ]
  },
  {
   "cell_type": "markdown",
   "metadata": {},
   "source": [
    "## Conclusion",
    "",
    "In this notebook, we've built a research agent that can:",
    "",
    "1. Process natural language research questions",
    "2. Use reasoning to determine what information is needed",
    "3. Select and use appropriate tools to gather that information",
    "4. Synthesize the results into comprehensive answers",
    "5. Explain its reasoning process",
    "",
    "This demonstrates the power of the agent paradigm - creating AI systems that can autonomously pursue goals through reasoning and tool use rather than simply responding to prompts. With additional tools and capabilities, such systems can become powerful research assistants for a wide range of tasks.",
    "",
    "The key difference between this agent approach and simple tool use is the autonomy and reasoning - the agent decides which tools to use when, rather than requiring explicit instructions for each step. This allows for more flexible and capable AI systems."
   ]
  }
 ]
}